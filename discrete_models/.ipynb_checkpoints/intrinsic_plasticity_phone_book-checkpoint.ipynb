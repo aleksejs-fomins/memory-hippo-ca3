{
 "cells": [
  {
   "cell_type": "code",
   "execution_count": 1,
   "metadata": {
    "collapsed": true
   },
   "outputs": [],
   "source": [
    "# Do all important inputs\n",
    "\n",
    "import brian2\n",
    "import numpy as np\n",
    "import matplotlib.pyplot as plt"
   ]
  },
  {
   "cell_type": "code",
   "execution_count": 2,
   "metadata": {
    "collapsed": true
   },
   "outputs": [],
   "source": [
    "# Number of input, excitatory and inhibitory neurons\n",
    "N_NEURON_INP = 10\n",
    "N_NEURON_L1 = 10\n",
    "\n",
    "# Connectivity ratio for pools of neurons of different type\n",
    "P_CONN_INP_L1 = 1.0\n",
    "P_CONN_L1_L1 = 0.5\n",
    "\n",
    "# Connectivity strengths\n",
    "STR_INP_L1  = [0.2, 1.0]\n",
    "STR_L1_L1   = [-1.0, 1.0]\n",
    "\n",
    "# Number of connections corresponding to the above probabilities\n",
    "N_CONN_INP_L1 = int(P_CONN_INP_L1  * N_NEURON_INP)\n",
    "N_CONN_L1_L1  = int(P_CONN_L1_L1 * N_NEURON_L1)\n",
    "\n",
    "# Generate connectivity maps\n",
    "# Connect each neuron of pool 1 with exactly N_CONN randomly selected neurons from pool 2\n",
    "CONN_INP_L1 = np.array([sorted(np.random.permutation(N_NEURON_L1)[:N_CONN_INP_L1]) for i in range(N_NEURON_INP)])\n",
    "CONN_L1_L1  = np.array([sorted(np.random.permutation(N_NEURON_L1)[:N_CONN_L1_L1])  for i in range(N_NEURON_L1)])\n",
    "\n",
    "# Generate connectivity matrices\n",
    "MAT_INP_L1 = np.zeros([N_NEURON_INP, N_NEURON_L1])\n",
    "MAT_L1_L1  = np.zeros([N_NEURON_L1, N_NEURON_L1])\n",
    "\n",
    "for iConn in range(N_NEURON_INP):\n",
    "    for jConn in CONN_INP_L1[iConn]:\n",
    "        MAT_INP_L1[iConn, jConn] = np.random.uniform(STR_INP_L1[0], STR_INP_L1[1])\n",
    "\n",
    "for iConn in range(N_NEURON_L1):\n",
    "    for jConn in CONN_L1_L1[iConn]:\n",
    "        MAT_L1_L1[iConn, jConn] = np.random.uniform(STR_L1_L1[0], STR_L1_L1[1])"
   ]
  },
  {
   "cell_type": "code",
   "execution_count": 4,
   "metadata": {},
   "outputs": [
    {
     "data": {
      "image/png": "[encoded data removed]",
      "text/plain": [
       "<matplotlib.figure.Figure at 0x7fb6df166550>"
      ]
     },
     "metadata": {},
     "output_type": "display_data"
    }
   ],
   "source": [
    "# Display the connectivity matrices\n",
    "\n",
    "fig, axs = plt.subplots(ncols=2, figsize=(7, 7))\n",
    "axs[0].set_title('MAT_INP_L1')\n",
    "axs[0].imshow(MAT_INP_L1, vmin=-1, vmax=1)\n",
    "axs[1].set_title('MAT_L1_L1')\n",
    "axs[1].imshow(MAT_L1_L1, vmin=-1, vmax=1)\n",
    "plt.show()"
   ]
  },
  {
   "cell_type": "code",
   "execution_count": null,
   "metadata": {
    "collapsed": true
   },
   "outputs": [],
   "source": [
    "membranePotL1 = np.zeros(N_NEURON_L1)\n",
    "thresholdsL1 = np.zeros(N_NEURON_L1)\n",
    "estRatesL1 = np.zeros(N_NEURON_L1)\n",
    "expRatesL1 = np.zeros(N_NEURON_L1) + 0.2\n",
    "expRatesChangeRate = 1.0 / 20.0\n",
    "thresholdChangeRate = 1.0 / 100.0\n",
    "\n",
    "def timeStep(V, I, T, R, WI, WL):\n",
    "    # Calculate the new potential from the old one\n",
    "    Vnew = (WI.dot(I) + WL.dot(V) > T).astype(int)\n",
    "    \n",
    "    # Update the rate\n",
    "    Rnew = (1 - expRatesChangeRate) * R + expRatesChangeRate * Vnew\n",
    "    \n",
    "    # Update the threshold\n",
    "    Tnew = T\n",
    "    for i in range(len(Tnew)):\n",
    "        if Rnew[i] < expRatesL1[i]:\n",
    "            T[i] -= thresholdChangeRate\n",
    "        else\n",
    "            T[i] += thresholdChangeRate\n",
    "            \n",
    "    return Vnew, Tnew, Rnew\n",
    "\n",
    "\n",
    "Input = np.array([1] + [0]*(N_NEURON_INP-1))\n",
    "NSteps = 1000\n",
    "\n",
    "for i in range(NSteps):\n",
    "    membranePotL1, thresholdsL1, estRatesL1 = timeStep(membranePotL1, Input, thresholdsL1, estRatesL1, MAT_INP_L1, MAT_L1_L1)\n",
    "    \n",
    "    \n",
    "    "
   ]
  },
  {
   "cell_type": "code",
   "execution_count": 10,
   "metadata": {},
   "outputs": [
    {
     "name": "stdout",
     "output_type": "stream",
     "text": [
      "[0 0 0 1 1]\n"
     ]
    }
   ],
   "source": [
    "aaa = np.array([1,2,3,4,5])\n",
    "print((aaa > 3).astype(int))"
   ]
  },
  {
   "cell_type": "code",
   "execution_count": null,
   "metadata": {
    "collapsed": true
   },
   "outputs": [],
   "source": []
  }
 ],
 "metadata": {
  "kernelspec": {
   "display_name": "Python 3",
   "language": "python",
   "name": "python3"
  },
  "language_info": {
   "codemirror_mode": {
    "name": "ipython",
    "version": 3
   },
   "file_extension": ".py",
   "mimetype": "text/x-python",
   "name": "python",
   "nbconvert_exporter": "python",
   "pygments_lexer": "ipython3",
   "version": "3.6.4"
  }
 },
 "nbformat": 4,
 "nbformat_minor": 2
}
