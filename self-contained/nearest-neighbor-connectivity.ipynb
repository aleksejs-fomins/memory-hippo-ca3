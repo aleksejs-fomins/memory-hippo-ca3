{
 "cells": [
  {
   "cell_type": "code",
   "execution_count": 2,
   "metadata": {},
   "outputs": [],
   "source": [
    "import numpy as np\n",
    "import matplotlib.pyplot as plt\n",
    "\n",
    "# Import libraries from outside folder\n",
    "import sys\n",
    "sys.path.append('../lib/')\n",
    "\n",
    "from opencv_lib import cvWriter"
   ]
  },
  {
   "cell_type": "markdown",
   "metadata": {},
   "source": [
    "# Plan\n",
    "\n",
    "1. All EXC form 2D regular grid\n",
    "    * connected by a radial gaussian weight kernel\n",
    "2. All INH are 1-to-1 with EXC\n",
    "    * INH superlinear to kill off wave\n",
    "    * INH response a bit slow to allow wave to propagate\n",
    "3. For most basic setup use rate neurons\n",
    "\n",
    "$ \\tau^{EXC} \\dot{x}_i^{EXC} = -x_i^{EXC} - W_i^{IE} x_i^{INH} + W_{ij}^{EE} x_j^{EXC} $\n",
    "\n",
    "$ \\tau^{INH} \\dot{x}_i^{INH} = -x_i^{INH} + W_i^{EI} x_i^{EXC} $\n"
   ]
  },
  {
   "cell_type": "code",
   "execution_count": 3,
   "metadata": {},
   "outputs": [],
   "source": [
    "class NearestNeighborDevice:\n",
    "    def __init__(self, p):\n",
    "        self.p = p\n",
    "        self.p[\"ALPHA_EXC\"] = p[\"DT\"] / p[\"TAU_EXC\"]\n",
    "        self.p[\"ALPHA_INH\"] = p[\"DT\"] / p[\"TAU_INH\"]\n",
    "        self.sh = (p[\"GRID_NX\"], p[\"GRID_NY\"])\n",
    "        self.coords = np.array([\n",
    "            np.outer(np.arange(self.sh[0]), np.ones(self.sh[1])).flatten(),\n",
    "            np.outer(np.ones(self.sh[0]), np.arange(self.sh[1])).flatten()\n",
    "        ]).T\n",
    "        self._gau_conn_2D(self.coords)\n",
    "        self.thr = np.ones(self.sh).flatten()\n",
    "\n",
    "    def _add_dim(self, vec, nDimFinal, axis=0):\n",
    "        newShape = [1]*nDimFinal\n",
    "        newShape[axis] = vec.shape[0]\n",
    "        return vec.reshape(tuple(newShape))\n",
    "\n",
    "    def _gau_nd(self, x, mu, s2):\n",
    "        muEff = self._add_dim(mu, x.ndim, axis=1)\n",
    "        s2Eff = self._add_dim(s2, x.ndim, axis=1)\n",
    "        chi2 = np.sum( (x - muEff)**2 / (2*s2Eff), axis=1 )\n",
    "        return np.exp(-chi2) / np.prod(np.sqrt(2 * np.pi * s2))\n",
    "\n",
    "    def _gau_conn_2D(self, coords):\n",
    "        self.mEEIdxs = []\n",
    "        self.mEEWeights = []\n",
    "        \n",
    "        coordIdxs = np.arange(len(coords))\n",
    "        var2d = np.array([self.p[\"CONN_GAU_VAR\"]]*2)\n",
    "        for iCoord in coordIdxs:\n",
    "            weights = self._gau_nd(coords, coords[iCoord], var2d)\n",
    "            weights *= self.p[\"W0_EXC\"]\n",
    "            idxHighWeight = weights > self.p[\"CONN_MAG_THR\"] * np.max(weights)\n",
    "            idxNotSelf = coordIdxs != iCoord\n",
    "            weightIdxs = np.where(idxHighWeight & idxNotSelf)[0]\n",
    "            \n",
    "            self.mEEIdxs += [coordIdxs[weightIdxs]]\n",
    "            self.mEEWeights += [weights[weightIdxs]]\n",
    "    \n",
    "    def _sparse_mv(self, x, idxLst, weightLst):\n",
    "        return np.array([np.dot(x[idxs], weights) for idxs, weights in zip(idxLst, weightLst)])\n",
    "    \n",
    "    def get_weight_by_idx(self, idxX, idxY):\n",
    "        idx = idxX * self.sh[1] + idxY\n",
    "        \n",
    "        connStrThis = np.full(np.prod(self.sh), np.nan)\n",
    "        connStrThis[self.mEEIdxs[idx]] = self.mEEWeights[idx]\n",
    "        \n",
    "        return connStrThis.reshape(self.sh)\n",
    "        \n",
    "    def set_threshold_map(self, thr):\n",
    "        self.thr = thr\n",
    "        \n",
    "    def update(self, xExc, xInh):\n",
    "        aExc = self.p[\"ALPHA_EXC\"]\n",
    "        aInh = self.p[\"ALPHA_INH\"]\n",
    "        wInh = self.p[\"W0_INH\"]\n",
    "        \n",
    "        feedbackEE = self._sparse_mv(xExc, self.mEEIdxs, self.mEEWeights)\n",
    "        feedbackE = (-wInh * xInh + feedbackEE) / self.thr\n",
    "        \n",
    "        xExcNew = (1-aExc) * xExc + aExc*feedbackE\n",
    "        xInhNew = (1-aInh) * xInh + aInh*(xExc**2)\n",
    "        return np.clip(xExcNew, 0, 1), xInhNew\n",
    "        "
   ]
  },
  {
   "cell_type": "code",
   "execution_count": 5,
   "metadata": {},
   "outputs": [
    {
     "data": {
      "image/png": "[encoded data removed]",
      "text/plain": [
       "<Figure size 432x288 with 2 Axes>"
      ]
     },
     "metadata": {
      "needs_background": "light"
     },
     "output_type": "display_data"
    },
    {
     "data": {
      "image/png": "[encoded data removed]",
      "text/plain": [
       "<Figure size 432x288 with 2 Axes>"
      ]
     },
     "metadata": {
      "needs_background": "light"
     },
     "output_type": "display_data"
    },
    {
     "data": {
      "image/png": "[encoded data removed]",
      "text/plain": [
       "<Figure size 432x288 with 2 Axes>"
      ]
     },
     "metadata": {
      "needs_background": "light"
     },
     "output_type": "display_data"
    }
   ],
   "source": [
    "def plot_mat(m, title):\n",
    "    plt.figure()\n",
    "    plt.imshow(m.T)\n",
    "    plt.colorbar()\n",
    "    plt.title(title)\n",
    "\n",
    "param = {\n",
    "    \"GRID_NX\" : 100,\n",
    "    \"GRID_NY\" : 40,\n",
    "    \"GRID_LENGTHSCALE\" : 1.0,\n",
    "    \"CONN_GAU_VAR\" : 5.0,\n",
    "    \"CONN_MAG_THR\" : 0.1,\n",
    "    \"DT\"           : 0.1,       # ms, timescale\n",
    "    \"TAU_EXC\"      : 1,         # ms, excitatory timescale\n",
    "    \"TAU_INH\"      : 2,         # ms, inhibitory timescale\n",
    "    \"W0_EXC\"       : 3.0,       # mV, excitatory weight scale\n",
    "    \"W0_INH\"       : 6.0        # mV, inhibitory weight scale\n",
    "}\n",
    "\n",
    "NND = NearestNeighborDevice(param)\n",
    "\n",
    "plot_mat(NND.get_weight_by_idx(30, 15), \"Weights of initial point\")\n",
    "\n",
    "\n",
    "###############################\n",
    "# Produce fancy thresholds\n",
    "###############################\n",
    "# thresholds = np.full(NND.sh, 1)\n",
    "thresholds = np.full(NND.sh, 10)\n",
    "# thresholds = np.full(NND.sh, 1)\n",
    "thresholds[10:50, 10:20] = 1\n",
    "thresholds[50:60, 10:30] = 1\n",
    "thresholds[60:90, 20:30] = 1\n",
    "NND.set_threshold_map(thresholds.flatten())\n",
    "\n",
    "plot_mat(thresholds, \"Thresholds\")\n",
    "\n",
    "###############################\n",
    "# Run simulation and write video\n",
    "###############################\n",
    "\n",
    "xExc = np.zeros(NND.sh).flatten()\n",
    "xInh = np.zeros(NND.sh).flatten()\n",
    "xExc[30 * 40 + 15] = 1\n",
    "\n",
    "nTime = 200\n",
    "\n",
    "with cvWriter(\"testvid.avi\", NND.sh[::-1], frate=30.0) as vidWriter:\n",
    "    for iTime in range(nTime):\n",
    "        xExc, xInh = NND.update(xExc, xInh)\n",
    "        vidWriter.write(255 * xExc.reshape(NND.sh).T)\n",
    "        \n",
    "###############################\n",
    "# Plot final state\n",
    "###############################\n",
    "        \n",
    "plot_mat(xExc.reshape(NND.sh), \"Final activities\")"
   ]
  },
  {
   "cell_type": "code",
   "execution_count": null,
   "metadata": {
    "collapsed": true
   },
   "outputs": [],
   "source": []
  }
 ],
 "metadata": {
  "kernelspec": {
   "display_name": "Python3.6",
   "language": "python",
   "name": "py36"
  },
  "language_info": {
   "codemirror_mode": {
    "name": "ipython",
    "version": 3
   },
   "file_extension": ".py",
   "mimetype": "text/x-python",
   "name": "python",
   "nbconvert_exporter": "python",
   "pygments_lexer": "ipython3",
   "version": "3.6.8"
  }
 },
 "nbformat": 4,
 "nbformat_minor": 2
}
