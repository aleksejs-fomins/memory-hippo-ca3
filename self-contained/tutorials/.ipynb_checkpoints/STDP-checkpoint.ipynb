{
 "cells": [
  {
   "cell_type": "code",
   "execution_count": 4,
   "metadata": {},
   "outputs": [],
   "source": [
    "from brian2 import *"
   ]
  },
  {
   "cell_type": "code",
   "execution_count": 11,
   "metadata": {},
   "outputs": [
    {
     "data": {
      "image/png": "[encoded data removed]",
      "text/plain": [
       "<matplotlib.figure.Figure at 0x7f8e0fa799b0>"
      ]
     },
     "metadata": {},
     "output_type": "display_data"
    }
   ],
   "source": [
    "# Plot causal STDP\n",
    "DW_CAUSAL_TAU = 20*ms\n",
    "DW_CAUSAL_MAG = 0.01\n",
    "DW_ACAUSAL_TAU = 20*ms\n",
    "DW_ACAUSAL_MAG = -A_pre*1.05\n",
    "\n",
    "fSTDP = lambda dt : where(dt>0, DW_CAUSAL_MAG*exp(-dt/DW_CAUSAL_TAU), DW_ACAUSAL_MAG*exp(dt/DW_ACAUSAL_TAU))\n",
    "\n",
    "dt = linspace(-50, 50, 100)*ms\n",
    "dw = fSTDP(dt)\n",
    "\n",
    "plot(dt/ms, dw)\n",
    "xlabel(r'$\\Delta t$ (ms)')\n",
    "ylabel('$\\Delta w$')\n",
    "axhline(0, ls='-', c='k');"
   ]
  },
  {
   "cell_type": "code",
   "execution_count": 13,
   "metadata": {},
   "outputs": [
    {
     "ename": "SyntaxError",
     "evalue": "invalid syntax (<ipython-input-13-700590b6db6f>, line 33)",
     "output_type": "error",
     "traceback": [
      "\u001b[0;36m  File \u001b[0;32m\"<ipython-input-13-700590b6db6f>\"\u001b[0;36m, line \u001b[0;32m33\u001b[0m\n\u001b[0;31m    on_pre=,\u001b[0m\n\u001b[0m           ^\u001b[0m\n\u001b[0;31mSyntaxError\u001b[0m\u001b[0;31m:\u001b[0m invalid syntax\n"
     ]
    }
   ],
   "source": [
    "start_scope()\n",
    "\n",
    "DW_CAUSAL_TAU = 20*ms\n",
    "DW_CAUSAL_MAG = 0.01\n",
    "DW_ACAUSAL_TAU = 20*ms\n",
    "DW_ACAUSAL_MAG = -A_pre*1.05\n",
    "tmax = 50*ms\n",
    "N = 100\n",
    "\n",
    "# Presynaptic neurons G spike at times from 0 to tmax\n",
    "# Postsynaptic neurons G spike at times from tmax to 0\n",
    "# So difference in spike times will vary from -tmax to +tmax\n",
    "G = NeuronGroup(N, 'tspike:second', threshold='t>tspike', refractory=100*ms)\n",
    "H = NeuronGroup(N, 'tspike:second', threshold='t>tspike', refractory=100*ms)\n",
    "G.tspike = 'i*tmax/(N-1)'\n",
    "H.tspike = '(N-1-i)*tmax/(N-1)'\n",
    "\n",
    "# For each synapse have two decaying variables\n",
    "# responding to presynaptic and postsynaptic spikes\n",
    "syn_eq = '''\n",
    "w : 1\n",
    "dw_causal/dt = -w_causal/DW_CAUSAL_TAU : 1 (event-driven)\n",
    "dw_acausal/dt = -w_acausal/DW_ACAUSAL_TAU : 1 (event-driven)\n",
    "'''\n",
    "\n",
    "# On spike increase decaying variable by fixed amount\n",
    "# Increase weight by the value of the decaying variable\n",
    "# from the other side of the synapse\n",
    "syn_pre_eq = '''\n",
    "w_causal += DW_CAUSAL_MAG\n",
    "w = w + w_acausal\n",
    "'''\n",
    "\n",
    "syn_post_eq = '''\n",
    "w_acausal += DW_ACAUSAL_MAG\n",
    "w = w + w_causal\n",
    "'''\n",
    "\n",
    "S = Synapses(G, H, syn_eq, on_pre=syn_pre_eq, on_post=syn_post_eq)\n",
    "S.connect(j='i')\n",
    "\n",
    "run(tmax+1*ms)\n",
    "\n",
    "plot((H.tspike-G.tspike)/ms, S.w)\n",
    "xlabel(r'$\\Delta t$ (ms)')\n",
    "ylabel(r'$\\Delta w$')\n",
    "axhline(0, ls='-', c='k');"
   ]
  },
  {
   "cell_type": "code",
   "execution_count": null,
   "metadata": {},
   "outputs": [],
   "source": []
  }
 ],
 "metadata": {
  "kernelspec": {
   "display_name": "Python 3",
   "language": "python",
   "name": "python3"
  },
  "language_info": {
   "codemirror_mode": {
    "name": "ipython",
    "version": 3
   },
   "file_extension": ".py",
   "mimetype": "text/x-python",
   "name": "python",
   "nbconvert_exporter": "python",
   "pygments_lexer": "ipython3",
   "version": "3.6.4"
  }
 },
 "nbformat": 4,
 "nbformat_minor": 2
}
