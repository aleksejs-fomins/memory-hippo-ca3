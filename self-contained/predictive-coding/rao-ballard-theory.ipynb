{
 "cells": [
  {
   "cell_type": "markdown",
   "metadata": {},
   "source": [
    "Questions of interest\n",
    "* Is there a formal way to approx. PDE impl. with given components (e.g. $\\tau \\dot{x} = f(x, I, \\theta)$)\n",
    "* How to phase-synchr. such components\n",
    "* How to modify loss function to include past or future values\n",
    "* Is there a formal way to introduce locality constraints into design. So far I can only use guesswork to see if a given design will be local or not.\n",
    "* Clearly RB can be written in a closed form using only representation $r$. Is it possible to write closed-form equations only for $\\epsilon$?"
   ]
  },
  {
   "cell_type": "code",
   "execution_count": null,
   "metadata": {},
   "outputs": [],
   "source": []
  }
 ],
 "metadata": {
  "kernelspec": {
   "display_name": "Python3.6",
   "language": "python",
   "name": "py36"
  },
  "language_info": {
   "codemirror_mode": {
    "name": "ipython",
    "version": 3
   },
   "file_extension": ".py",
   "mimetype": "text/x-python",
   "name": "python",
   "nbconvert_exporter": "python",
   "pygments_lexer": "ipython3",
   "version": "3.6.8"
  }
 },
 "nbformat": 4,
 "nbformat_minor": 2
}
