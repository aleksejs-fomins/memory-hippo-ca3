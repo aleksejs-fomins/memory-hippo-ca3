{
 "cells": [
  {
   "cell_type": "code",
   "execution_count": 1,
   "metadata": {
    "collapsed": true
   },
   "outputs": [],
   "source": [
    "import numpy as np\n",
    "from rateLib import rateNeuronSimulator"
   ]
  },
  {
   "cell_type": "code",
   "execution_count": 2,
   "metadata": {},
   "outputs": [
    {
     "name": "stdout",
     "output_type": "stream",
     "text": [
      "Input Populations:\n",
      "    0 Inp0 100\n",
      "Populations:\n",
      "    0 Err0 100 EXC\n",
      "    1 X1 5 EXC\n",
      "    2 I1 5 INH\n",
      "Synapses:\n",
      "    0 Err0 ('Inp0', 'Err0') id None\n",
      "    1 X1 ('X1', 'I1') id None\n",
      "    2 I1 ('I1', 'Err0') dense XX_back\n"
     ]
    }
   ],
   "source": [
    "param = {\n",
    "    \"DT\"               : 0.1,\n",
    "    \"TAU_X\"            : 1,\n",
    "    \"TAU_W\"            : 100,\n",
    "    \"STORE_POP\"        : True,\n",
    "    \"STORE_SYN\"        : False,\n",
    "    \"STORE_SYN_NORM\"   : True\n",
    "}\n",
    "\n",
    "RNS = rateNeuronSimulator(param)\n",
    "\n",
    "# Define input populations\n",
    "N_INP0 = 100\n",
    "finp0 = lambda T : np.ones(N_INP0)\n",
    "\n",
    "# Add populations\n",
    "RNS.add_input(\"Inp0\", N_INP0, finp0)    \n",
    "RNS.add_population(\"Err0\", \"EXC\", N_INP0)\n",
    "RNS.add_population(\"X1\", \"EXC\", 5)\n",
    "RNS.add_population(\"I1\", \"INH\", 5)\n",
    "\n",
    "RNS.add_synapse(\"S1\", \"Inp0\", \"Err0\", \"id\", None)\n",
    "RNS.add_synapse(\"S2\", \"X1\", \"I1\", \"id\", None)\n",
    "RNS.add_synapse(\"S3\", \"I1\", \"Err0\", \"dense\", \"XX_back\")\n",
    "RNS.add_synapse(\"S4\", \"Err0\", \"X1\", \"dense\", \"XX_forw\")\n",
    "    \n",
    "RNS.construct()\n",
    "RNS.print_summary()"
   ]
  },
  {
   "cell_type": "code",
   "execution_count": 3,
   "metadata": {},
   "outputs": [],
   "source": [
    "RNS.run(10000)"
   ]
  },
  {
   "cell_type": "code",
   "execution_count": null,
   "metadata": {
    "collapsed": true
   },
   "outputs": [],
   "source": []
  }
 ],
 "metadata": {
  "kernelspec": {
   "display_name": "Python 3",
   "language": "python",
   "name": "python3"
  },
  "language_info": {
   "codemirror_mode": {
    "name": "ipython",
    "version": 3
   },
   "file_extension": ".py",
   "mimetype": "text/x-python",
   "name": "python",
   "nbconvert_exporter": "python",
   "pygments_lexer": "ipython3",
   "version": "3.6.4"
  }
 },
 "nbformat": 4,
 "nbformat_minor": 2
}
