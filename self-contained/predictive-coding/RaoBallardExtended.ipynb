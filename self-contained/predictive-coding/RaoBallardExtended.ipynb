{
 "cells": [
  {
   "cell_type": "code",
   "execution_count": 1,
   "metadata": {},
   "outputs": [],
   "source": [
    "from RB_lib import RaoBallardExtended"
   ]
  },
  {
   "cell_type": "code",
   "execution_count": 2,
   "metadata": {},
   "outputs": [
    {
     "name": "stdout",
     "output_type": "stream",
     "text": [
      "Number of layers 2\n",
      "Input Populations:\n",
      "   PIC : {'ptype': 'INP', 'size': 100}\n",
      "Populations:\n",
      "   X : {'ptype': 'EXC', 'size': [5, 2]}\n",
      "   I : {'ptype': 'INH', 'size': [5, 2]}\n",
      "Input Synapses:\n",
      "   ('PIC', 'X', 'forward') : {'conntype': 'dense', 'plasticity': 'XX_forw'}\n",
      "Synapses:\n",
      "   ('X', 'X', 'forward') : {'conntype': 'dense', 'plasticity': 'XX_forw'}\n",
      "   ('X', 'X', 'backward') : {'conntype': 'dense', 'plasticity': 'XX_back'}\n",
      "   ('X', 'I', 'lateral') : {'conntype': 'id', 'plasticity': None}\n",
      "   ('I', 'X', 'lateral') : {'conntype': 'dense', 'plasticity': 'WWT_COPY'}\n"
     ]
    }
   ],
   "source": [
    "RB = RaoBallardExtended({\"N_LAYERS\" : 2, \"DT\" : 0.1})\n",
    "RB.add_population(\"PIC\", \"INP\", 100)\n",
    "RB.add_population(\"X\", \"EXC\", [5, 2])\n",
    "RB.add_population(\"I\", \"INH\", [5, 2])\n",
    "RB.add_synapses(\"PIC\", \"X\", \"forward\", \"dense\", \"XX_forw\")\n",
    "RB.add_synapses(\"X\", \"X\", \"forward\", \"dense\", \"XX_forw\")\n",
    "RB.add_synapses(\"X\", \"X\", \"backward\", \"dense\", \"XX_back\")\n",
    "RB.add_synapses(\"X\", \"I\", \"lateral\", \"id\", None)\n",
    "RB.add_synapses(\"I\", \"X\", \"lateral\", \"dense\", \"WWT_COPY\")\n",
    "RB.print_summary()"
   ]
  },
  {
   "cell_type": "code",
   "execution_count": 3,
   "metadata": {},
   "outputs": [],
   "source": [
    "RB.construct()"
   ]
  },
  {
   "cell_type": "code",
   "execution_count": null,
   "metadata": {
    "collapsed": true
   },
   "outputs": [],
   "source": []
  }
 ],
 "metadata": {
  "kernelspec": {
   "display_name": "Python 3",
   "language": "python",
   "name": "python3"
  },
  "language_info": {
   "codemirror_mode": {
    "name": "ipython",
    "version": 3
   },
   "file_extension": ".py",
   "mimetype": "text/x-python",
   "name": "python",
   "nbconvert_exporter": "python",
   "pygments_lexer": "ipython3",
   "version": "3.6.4"
  }
 },
 "nbformat": 4,
 "nbformat_minor": 2
}
