{
 "cells": [
  {
   "cell_type": "code",
   "execution_count": 1,
   "metadata": {},
   "outputs": [],
   "source": [
    "import numpy as np\n",
    "import sys\n",
    "sys.path.append('../lib/')\n",
    "\n",
    "from opencv_lib import cvWriter\n",
    "from traces_lib import rates2spikes, spikes2rateVideo"
   ]
  },
  {
   "cell_type": "code",
   "execution_count": 3,
   "metadata": {},
   "outputs": [],
   "source": [
    "# TEST 1: Write noise to video\n",
    "\n",
    "frameDim = (100, 200)\n",
    "nPixel = frameDim[0] * frameDim[1]\n",
    "with cvWriter('testvid1.avi', frameDim) as vid:\n",
    "    for iFrame in range(100):\n",
    "        vid.write(np.random.uniform(0, 255, nPixel).reshape(frameDim))"
   ]
  },
  {
   "cell_type": "code",
   "execution_count": 4,
   "metadata": {},
   "outputs": [
    {
     "name": "stdout",
     "output_type": "stream",
     "text": [
      "Started writing video testvid2.avi of 200 frames using time step 0.005\n"
     ]
    }
   ],
   "source": [
    "# Test 2: Write random spike rate to video\n",
    "frameDim = (100, 200)\n",
    "tMin = 0.0\n",
    "tMax = 1.0\n",
    "nStep = 200\n",
    "tau = 0.05\n",
    "\n",
    "nSpike = 100000\n",
    "tList = np.random.normal((tMax+tMin)/2, (tMax-tMin)/8 , nSpike)\n",
    "tList[tList < tMin] = tMin\n",
    "tList[tList > tMax] = tMax\n",
    "indList = np.random.randint(0, frameDim[0] * frameDim[1], nSpike)\n",
    "tList.sort()  # We require time in the ascending order\n",
    "\n",
    "spikes2rateVideo('testvid2.avi', frameDim, indList, tList, tMin, tMax, nStep, tau, maxRate=20)"
   ]
  },
  {
   "cell_type": "code",
   "execution_count": 10,
   "metadata": {},
   "outputs": [
    {
     "name": "stdout",
     "output_type": "stream",
     "text": [
      "Total spikes made 299681 expected 300000 +/- 547.722557505\n",
      "Started writing video testvid3.avi of 500 frames using time step 0.002\n"
     ]
    }
   ],
   "source": [
    "# Test 3: Generate spike rate from image and write to video\n",
    "pic = np.zeros((200, 200))\n",
    "xMin = 50\n",
    "xMax = 150\n",
    "yMin = 100\n",
    "yMax = 160\n",
    "rate = 50  # Hz\n",
    "pic[xMin:xMax, yMin:yMax] = rate\n",
    "nSpikesExp = (xMax-xMin)*(yMax-yMin)*(tMax-tMin)*rate\n",
    "\n",
    "# Time interval 1 second\n",
    "tMin = 0\n",
    "tMax = 1\n",
    "nStep = 500\n",
    "tau = 0.05\n",
    "\n",
    "spI, spT = rates2spikes(pic.flatten(), 0, 1)\n",
    "print(\"Total spikes made\", len(spI), \"expected\", nSpikesExp, \"+/-\", np.sqrt(nSpikesExp))\n",
    "\n",
    "spikes2rateVideo('testvid3.avi', pic.shape, spI, spT, tMin, tMax, nStep, tau, maxRate=110)"
   ]
  },
  {
   "cell_type": "code",
   "execution_count": null,
   "metadata": {},
   "outputs": [],
   "source": []
  }
 ],
 "metadata": {
  "kernelspec": {
   "display_name": "Python 3",
   "language": "python",
   "name": "python3"
  },
  "language_info": {
   "codemirror_mode": {
    "name": "ipython",
    "version": 3
   },
   "file_extension": ".py",
   "mimetype": "text/x-python",
   "name": "python",
   "nbconvert_exporter": "python",
   "pygments_lexer": "ipython3",
   "version": "3.6.4"
  }
 },
 "nbformat": 4,
 "nbformat_minor": 2
}
