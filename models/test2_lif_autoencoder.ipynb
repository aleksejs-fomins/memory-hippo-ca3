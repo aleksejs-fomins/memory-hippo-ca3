{
 "cells": [
  {
   "cell_type": "markdown",
   "metadata": {},
   "source": [
    "## Autoencoder\n",
    "### 1. Discrete autoencoder using Prescribed Error Sensitivity (PES) plasticity rule\n",
    "\n",
    "They are linked together by the following processes\n",
    "<table>\n",
    "    <tr>\n",
    "        <td><p align=\"left\"> Encoding </p></td>\n",
    "        <td><p align=\"left\"> $V_i^H(t) = \\frac{V_0 - V_i^H(t)}{\\tau_V} - T_i S_i^H(t) + \\sum_i W^{\\mathrm{ENC}}_{ij} S_j^I(t)$ </p></td>\n",
    "    </tr>\n",
    "    <tr>\n",
    "        <td><p align=\"left\"> Decoding </p></td>\n",
    "        <td><p align=\"left\"> $V_i^O(t) = \\frac{V_0 - V_i^O(t)}{\\tau_V} - T_i S_i^O(t) + \\sum_i W^{\\mathrm{DEC}}_{ij} S_j^H(t)$ </p></td>\n",
    "    </tr>\n",
    "    <tr>\n",
    "        <td><p align=\"left\"> PES rule </p></td>\n",
    "        <td><p align=\"left\"> $\\dot{W}^{\\mathrm{DEC}}_{ij} = \\alpha (R_i^I(t) - R_i^O(t)) R_j^H(t)$ </p></td>\n",
    "    </tr>\n",
    "</table>\n",
    "\n",
    "Problem 1: In the design, the error signal targets the synapse, for which there is no obvious biological mechanism. Potential solution is to compute the error directly instead of the output. Then the weight can be adapted directly based on pre and post-synaptic activities of the decoding weights.\n",
    "\n",
    "<table>\n",
    "    <tr>\n",
    "        <td><p align=\"left\"> Encoding </p></td>\n",
    "        <td><p align=\"left\"> $V_i^H(t) = \\frac{V_0 - V_i^H(t)}{\\tau_V} - T_i S_i^H(t) + \\sum_i W^{\\mathrm{ENC}}_{ij} S_j^I(t)$ </p></td>\n",
    "    </tr>\n",
    "    <tr>\n",
    "        <td><p align=\"left\"> Decoding </p></td>\n",
    "        <td><p align=\"left\"> $V_i^O(t) = \\frac{V_0 - V_i^O(t)}{\\tau_V} - T_i S_i^O(t) + \\sum_i W^{\\mathrm{DEC}}_{ij} S_j^H(t) - S_i^I(t) + N_i(t)$ </p></td>\n",
    "    </tr>\n",
    "    <tr>\n",
    "        <td><p align=\"left\"> PES rule </p></td>\n",
    "        <td><p align=\"left\"> $\\dot{W}^{\\mathrm{DEC}}_{ij} = \\alpha (R_0 - R_i^O(t)) R_j^H(t)$ </p></td>\n",
    "    </tr>\n",
    "</table>\n",
    "\n",
    "**Challenges**: Input-err pathway produces much less spikes than enc-dec pathway. Not possible to compensate simply by weights."
   ]
  },
  {
   "cell_type": "code",
   "execution_count": 1,
   "metadata": {
    "collapsed": true
   },
   "outputs": [],
   "source": [
    "# Import libraries from outside folder\n",
    "import sys\n",
    "sys.path.append('../lib/')\n",
    "\n",
    "import numpy as np\n",
    "import matplotlib.pyplot as plt\n",
    "\n",
    "from brian2 import start_scope, prefs, run\n",
    "from brian2 import NeuronGroup, PoissonGroup, Synapses, SpikeMonitor, StateMonitor, TimedArray\n",
    "from brian2 import ms, mV, Hz\n",
    "\n",
    "import opencv_lib\n",
    "import brian2wrapper"
   ]
  },
  {
   "cell_type": "code",
   "execution_count": 2,
   "metadata": {},
   "outputs": [
    {
     "data": {
      "image/png": "[encoded data removed]",
      "text/plain": [
       "<Figure size 432x288 with 2 Axes>"
      ]
     },
     "metadata": {
      "needs_background": "light"
     },
     "output_type": "display_data"
    }
   ],
   "source": [
    "#Generate some random pictures\n",
    "NPIX_X = 20\n",
    "discr = np.linspace(0, 1, NPIX_X)\n",
    "img1 = np.array([[(1 + np.sin(10*((x-0.5)**2+(y-0.5)**2)))/2 for y in discr] for x in discr])\n",
    "# pic1 = np.array([[(x+y)/2 for y in discr] for x in discr])\n",
    "img2 = np.array([[(1 + np.sin(10*((x-0.5)**2-(y-0.5)**2)))/2 for y in discr] for x in discr])\n",
    "\n",
    "fig, ax = plt.subplots(ncols=2)\n",
    "ax[0].imshow(img1)\n",
    "ax[1].imshow(img2)\n",
    "plt.show()"
   ]
  },
  {
   "cell_type": "code",
   "execution_count": 3,
   "metadata": {},
   "outputs": [
    {
     "name": "stdout",
     "output_type": "stream",
     "text": [
      "Number of [INP, HID, ERR] neurons is 400 400 400\n",
      "input freqnency 2. kHz\n"
     ]
    },
    {
     "name": "stderr",
     "output_type": "stream",
     "text": [
      "INFO       No numerical integration method specified for group 'synapses_1', using method 'euler' (took 0.01s, trying other methods took 0.00s). [brian2.stateupdaters.base.method_choice]\n"
     ]
    },
    {
     "name": "stdout",
     "output_type": "stream",
     "text": [
      "CPU times: user 1min 49s, sys: 1.37 s, total: 1min 51s\n",
      "Wall time: 1min 51s\n"
     ]
    }
   ],
   "source": [
    "%%time\n",
    "\n",
    "#######################################\n",
    "# Simulation\n",
    "#######################################\n",
    "\n",
    "start_scope()\n",
    "prefs.codegen.target = \"numpy\"\n",
    "\n",
    "RUN_TIME_1_SIM = 1000*ms\n",
    "RUN_TIME_TOT = 10 * RUN_TIME_1_SIM\n",
    "\n",
    "#######################################\n",
    "# Neurons\n",
    "#######################################\n",
    "\n",
    "N_INP = img1.shape[0] * img1.shape[1]\n",
    "N_HID = N_INP\n",
    "N_ERR = N_INP\n",
    "print('Number of [INP, HID, ERR] neurons is', N_INP, N_HID, N_ERR)\n",
    "\n",
    "# Fixed threshold neurons\n",
    "LIF_V_TAU = 10*ms\n",
    "LIF_V_TAU_INH = 2000*ms\n",
    "LIF_V_0 = 0.0*mV\n",
    "LIF_T_0 = 50.0*mV\n",
    "\n",
    "# LIF neurons will be sparsely connected laterally\n",
    "W_CONN_P_ENC = 0.1\n",
    "W_CONN_P_DEC = 0.1\n",
    "DV_SPIKE_POP = LIF_T_0 / 20\n",
    "DV_SPIKE_SING = LIF_T_0 / 2\n",
    "\n",
    "\n",
    "#######################################\n",
    "# NOISE\n",
    "#######################################\n",
    "NOISE_FREQ = 2000*Hz\n",
    "\n",
    "#######################################\n",
    "# Input\n",
    "#######################################\n",
    "\n",
    "# Sync input voltage, so that for average threshold the leak would balance out the input\n",
    "INPUT_FREQ_MAX = 2000*Hz\n",
    "\n",
    "# INPUT_FREQ_MAX = NOISE_FREQ / (0.5*N_INP*W_CONN_P_ENC)\n",
    "print(\"input freqnency\", INPUT_FREQ_MAX)\n",
    "\n",
    "# Generate input timed arrays\n",
    "rates1 = INPUT_FREQ_MAX * np.ndarray.flatten(img1)\n",
    "rates2 = INPUT_FREQ_MAX * np.ndarray.flatten(img2)\n",
    "rates_all = np.vstack((rates1, rates2, rates1, rates2, rates1, rates2, rates1, rates2, rates1, rates2)) * Hz\n",
    "\n",
    "# NOTE: The poisson rate is changed with time step dt, resulting in new input\n",
    "rateTimedArray = TimedArray(rates_all, dt = RUN_TIME_1_SIM)\n",
    "\n",
    "\n",
    "#######################################\n",
    "# STDP\n",
    "#######################################\n",
    "TAU_PRE = 20*ms\n",
    "TAU_POST = 20*ms\n",
    "REL_W_MIN=0.0\n",
    "REL_W_MAX=1.0\n",
    "DW = 0.01 * Hz\n",
    "Z_TRG = 8.0\n",
    "\n",
    "# Two auxiliary variables track decaying trace of\n",
    "# presynaptic and postsynaptic spikes\n",
    "syn_eq = '''\n",
    "dzpre/dt = -zpre/TAU_PRE : 1 (event-driven)\n",
    "dzpost/dt = -zpost/TAU_POST : 1 (event-driven)\n",
    "dw/dt = DW*zpre*(Z_TRG - zpost) : 1 (clock-driven)\n",
    "'''\n",
    "\n",
    "# On spike increase decaying variable by fixed amount\n",
    "# Increase weight by the value of the decaying variable\n",
    "# from the other side of the synapse\n",
    "# Truncate weight if it exceeds maximum\n",
    "syn_pre_eq = '''\n",
    "zpre += 1\n",
    "v_post += DV_SPIKE_POP * w\n",
    "'''\n",
    "\n",
    "syn_post_eq = '''\n",
    "zpost += 1\n",
    "'''\n",
    "\n",
    "\n",
    "#######################################\n",
    "# Brian2 classes\n",
    "#######################################\n",
    "\n",
    "# Create neuronal populations\n",
    "#G_INP = PoissonGroup(N_INP, INPUT_FREQ_MAX * np.ndarray.flatten(img1))\n",
    "G_INP = PoissonGroup(N_INP, rates=\"rateTimedArray(t, i)\")\n",
    "G_HID = brian2wrapper.NeuronGroupLIF(N_HID, LIF_V_0, LIF_T_0, LIF_V_TAU)\n",
    "G_ERR = brian2wrapper.NeuronGroupLIF(N_ERR, LIF_V_0, LIF_T_0, LIF_V_TAU)\n",
    "G_NOISE = PoissonGroup(N_ERR, NOISE_FREQ)\n",
    "\n",
    "# Create synapses\n",
    "S_ENC = Synapses(G_INP, G_HID, model='w : 1', on_pre='v_post += w*DV_SPIKE_POP', method='exact')\n",
    "S_DEC = Synapses(G_HID, G_ERR, syn_eq, on_pre=syn_pre_eq, on_post=syn_post_eq)\n",
    "S_INF = Synapses(G_INP, G_ERR, on_pre='v_post -= DV_SPIKE_SING', method='exact')\n",
    "S_NOISE = Synapses(G_NOISE, G_ERR, on_pre='v_post += DV_SPIKE_SING', method='exact')\n",
    "\n",
    "# Connect synapses:\n",
    "# * Input and LIF one-to-one\n",
    "# * LIF neurons to each other sparsely\n",
    "S_ENC.connect(p=W_CONN_P_ENC) \n",
    "S_DEC.connect(p=W_CONN_P_DEC) \n",
    "S_INF.connect(j='i')\n",
    "S_NOISE.connect(j='i')\n",
    "\n",
    "# Initialize weights for neurons\n",
    "S_ENC.w = np.random.uniform(REL_W_MIN, REL_W_MAX, len(S_ENC.w))\n",
    "S_DEC.w = np.random.uniform(REL_W_MIN, REL_W_MAX, len(S_DEC.w))\n",
    "\n",
    "#spikemon_inp = SpikeMonitor(G_INP)\n",
    "statemon_g_err = StateMonitor(G_ERR, 'v', record=True, dt=1*ms)\n",
    "statemon_s_dec = StateMonitor(S_DEC, 'w', record=True, dt=1*ms)\n",
    "statemon_s_dec_rate = StateMonitor(S_DEC, 'zpost', record=True, dt=1*ms)\n",
    "\n",
    "\n",
    "#######################################\n",
    "# Run sim\n",
    "#######################################\n",
    "\n",
    "run(RUN_TIME_TOT)"
   ]
  },
  {
   "cell_type": "code",
   "execution_count": 4,
   "metadata": {},
   "outputs": [
    {
     "name": "stdout",
     "output_type": "stream",
     "text": [
      "8.297096939957399\n"
     ]
    },
    {
     "data": {
      "image/png": "[encoded data removed]",
      "text/plain": [
       "<Figure size 432x288 with 1 Axes>"
      ]
     },
     "metadata": {
      "needs_background": "light"
     },
     "output_type": "display_data"
    }
   ],
   "source": [
    "print(np.average(np.array(statemon_s_dec_rate.zpost)))\n",
    "\n",
    "plt.figure()\n",
    "plt.plot(np.average(np.array(statemon_s_dec_rate.zpost), axis=0))\n",
    "plt.show()\n",
    "\n",
    "# plt.figure()\n",
    "# plt.plot(np.average(np.array(statemon_g_err.v), axis=0))\n",
    "# plt.show()"
   ]
  },
  {
   "cell_type": "code",
   "execution_count": null,
   "metadata": {
    "collapsed": true
   },
   "outputs": [],
   "source": []
  }
 ],
 "metadata": {
  "kernelspec": {
   "display_name": "Python 3",
   "language": "python",
   "name": "python3"
  },
  "language_info": {
   "codemirror_mode": {
    "name": "ipython",
    "version": 3
   },
   "file_extension": ".py",
   "mimetype": "text/x-python",
   "name": "python",
   "nbconvert_exporter": "python",
   "pygments_lexer": "ipython3",
   "version": "3.6.4"
  }
 },
 "nbformat": 4,
 "nbformat_minor": 2
}
