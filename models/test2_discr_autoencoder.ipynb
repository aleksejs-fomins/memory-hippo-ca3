{
 "cells": [
  {
   "cell_type": "markdown",
   "metadata": {},
   "source": [
    "## Autoencoder\n",
    "### 1. Discrete autoencoder using Prescribed Error Sensitivity (PES) plasticity rule\n",
    "\n",
    "The system consists of 4 populations, given by the corresponding rate variables:\n",
    "* $r_i^I$ - Input population\n",
    "* $r_i^H$ - Hidden population\n",
    "* $r_i^O$ - Output population\n",
    "* $r_i^{\\epsilon}$ - Error population\n",
    "\n",
    "They are linked together by the following processes\n",
    "<table>\n",
    "    <tr>\n",
    "        <td><p align=\"left\"> Encoding </p></td>\n",
    "        <td><p align=\"left\"> $r_i^H = \\sigma \\biggl(\\sum_i W^{\\mathrm{ENC}}_{ij} r_j^I\\biggr)$ </p></td>\n",
    "    </tr>\n",
    "    <tr>\n",
    "        <td><p align=\"left\"> Decoding </p></td>\n",
    "        <td><p align=\"left\"> $r_i^O = \\sum_i W^{\\mathrm{DEC}}_{ij} r_j^H$ </p></td>\n",
    "    </tr>\n",
    "    <tr>\n",
    "        <td><p align=\"left\"> Error Computation </p></td>\n",
    "        <td><p align=\"left\"> $r_i^{\\epsilon} = r_i^I - r_i^O$ </p></td>\n",
    "    </tr>\n",
    "    <tr>\n",
    "        <td><p align=\"left\"> PES rule </p></td>\n",
    "        <td><p align=\"left\"> $\\Delta W^{\\mathrm{DEC}}_{ij} = \\alpha r_i^{\\epsilon} r_j^H$ </p></td>\n",
    "    </tr>\n",
    "</table>\n",
    "\n",
    "**TODO**:\n",
    "* Effects on memory capacity and denoising quality\n",
    "  * Hidden units number\n",
    "  * Encoding/Decoding sparsity\n",
    "* Optimization of encoding\n",
    "  * Find publications, propose strategies\n",
    "* Rate model\n",
    "  * Effects of lag\n",
    "  * Find example where $\\sigma(x)$ nonlinearity actually makes a difference (rate model fails, but semistatic succeeds)?\n",
    "* Spiking model\n",
    "  * Find publications, propose strategies\n",
    "  * How to actually compute error given 2 spiking signals?\n",
    "  * Why error correcting mechanism targets synapse, and not hidden layer neuron?\n",
    "    * Is there a biological way PES could happen? Astrocytes?\n",
    "    * IS there a purely neural way to do a PES analogue, that is, targeting hidden layer neuron with error signal"
   ]
  },
  {
   "cell_type": "code",
   "execution_count": 2,
   "metadata": {},
   "outputs": [],
   "source": [
    "# Import libraries from outside folder\n",
    "import sys\n",
    "sys.path.append('../lib/')\n",
    "\n",
    "import numpy as np\n",
    "import matplotlib.pyplot as plt\n",
    "import opencv_lib"
   ]
  },
  {
   "cell_type": "code",
   "execution_count": 3,
   "metadata": {},
   "outputs": [],
   "source": [
    "# Lets write a spiking autoencoder with 1 hidden layer\n",
    "def sigmoid(t, tau):\n",
    "    return 1 / (1 + np.exp(-(t-0.5)/tau))\n",
    "\n",
    "class AutoEncoder():\n",
    "    def __init__(self, N_INP, N_HIDDEN, LEARNING_RATE, sparsity=0.1):\n",
    "        self.LEARNING_RATE = LEARNING_RATE\n",
    "        \n",
    "        self.N_INP = N_INP\n",
    "        self.N_HIDDEN = N_HIDDEN\n",
    "        \n",
    "        # Employ random sparse encoding matrix\n",
    "        sparseEnc = np.random.uniform(0, 1, N_INP*N_HIDDEN).reshape((N_HIDDEN, N_INP)) < sparsity\n",
    "        self.M_ENC = np.random.uniform(-1, 2, N_INP*N_HIDDEN).reshape((N_HIDDEN, N_INP)) / (N_INP * sparsity )\n",
    "        self.M_ENC = np.multiply(self.M_ENC, sparseEnc)\n",
    "        \n",
    "        # Start with a random dense decoder matrix\n",
    "        self.M_DEC = np.random.uniform(0, 2, N_INP*N_HIDDEN).reshape((N_INP, N_HIDDEN)) / N_HIDDEN\n",
    "        \n",
    "        # Init activity of hidden layer and output layer\n",
    "        self.S_H = np.zeros(N_HIDDEN)\n",
    "        self.V_O = np.zeros(N_INP)\n",
    "        \n",
    "    def update(self, V_I, withPES = False):\n",
    "        V_H = self.M_ENC.dot(V_I)\n",
    "        self.S_H = sigmoid(V_H, 0.1)\n",
    "        self.V_O = self.M_DEC.dot(self.S_H)\n",
    "        \n",
    "        # PES learning rule\n",
    "        if withPES:\n",
    "            error = V_I - self.V_O\n",
    "            self.M_DEC += self.LEARNING_RATE / self.N_HIDDEN * np.outer(error, self.S_H)"
   ]
  },
  {
   "cell_type": "code",
   "execution_count": 4,
   "metadata": {},
   "outputs": [
    {
     "data": {
      "image/png": "[encoded data removed]",
      "text/plain": [
       "<matplotlib.figure.Figure at 0x7ffb761559b0>"
      ]
     },
     "metadata": {},
     "output_type": "display_data"
    }
   ],
   "source": [
    "#Generate some random pictures\n",
    "NPIX_X = 20\n",
    "discr = np.linspace(0, 1, NPIX_X)\n",
    "pic1 = np.array([[(1 + np.sin(10*((x-0.5)**2+(y-0.5)**2)))/2 for y in discr] for x in discr])\n",
    "# pic1 = np.array([[(x+y)/2 for y in discr] for x in discr])\n",
    "pic2 = np.array([[(1 + np.sin(10*((x-0.5)**2-(y-0.5)**2)))/2 for y in discr] for x in discr])\n",
    "\n",
    "fig, ax = plt.subplots(ncols=2)\n",
    "ax[0].imshow(pic1)\n",
    "ax[1].imshow(pic2)\n",
    "plt.show()"
   ]
  },
  {
   "cell_type": "code",
   "execution_count": 14,
   "metadata": {
    "scrolled": false
   },
   "outputs": [
    {
     "name": "stdout",
     "output_type": "stream",
     "text": [
      "CPU times: user 11.2 s, sys: 21.6 s, total: 32.8 s\n",
      "Wall time: 4.11 s\n"
     ]
    }
   ],
   "source": [
    "%%time\n",
    "# GENERATE NETWORK\n",
    "AE1 = AutoEncoder(NPIX_X**2, NPIX_X**2, 0.5)\n",
    "\n",
    "###############################\n",
    "# Learning part\n",
    "###############################\n",
    "\n",
    "TIME_STEPS_SIM = 10000\n",
    "PERIOD_INPUT_SWAP = 200\n",
    "PERIOD_VIDEO_SAMPLE = 5\n",
    "PADDING_LEN = 5\n",
    "FRAME_PADDED_SHAPE = (NPIX_X, 3*NPIX_X + 2*PADDING_LEN)\n",
    "\n",
    "inpFlat1 = np.ndarray.flatten(pic1)\n",
    "inpFlat2 = np.ndarray.flatten(pic2)\n",
    "framePadding = np.zeros((NPIX_X, PADDING_LEN))\n",
    "\n",
    "# Threshold trace\n",
    "with opencv_lib.cvWriter('rez/test2_semistatic_pes_learning.avi', FRAME_PADDED_SHAPE, codec='MJPG') as vid_inp:\n",
    "    for iSim in range(TIME_STEPS_SIM):\n",
    "        # Present different textures periodically\n",
    "        if int(iSim / PERIOD_INPUT_SWAP) % 2 == 0:\n",
    "            inp = inpFlat1 + np.random.uniform(-0.1, 0.1, NPIX_X**2)\n",
    "        else:\n",
    "            inp = inpFlat2 + np.random.uniform(-0.1, 0.1, NPIX_X**2)\n",
    "\n",
    "        AE1.update(inp, withPES=True)\n",
    "\n",
    "        # Write update to file sometimes\n",
    "        if iSim % PERIOD_VIDEO_SAMPLE == 0:\n",
    "            frameStack = np.hstack((\n",
    "                255 * inp.reshape((NPIX_X, NPIX_X)),\n",
    "                framePadding,\n",
    "                255 * AE1.S_H.reshape((NPIX_X, NPIX_X)),\n",
    "                framePadding,\n",
    "                255 * AE1.V_O.reshape((NPIX_X, NPIX_X))\n",
    "            ))\n",
    "            \n",
    "            #print(\"step\", iSim)\n",
    "            vid_inp.write(frameStack)\n",
    "\n",
    "\n",
    "# ###############################\n",
    "# # Testing part\n",
    "# ###############################\n",
    "\n",
    "TIME_STEPS_TEST = 1000\n",
    "with opencv_lib.cvWriter('rez/test2_semistatic_pes_testing.avi', FRAME_PADDED_SHAPE, codec='MJPG') as vid_inp:\n",
    "    for iTest in range(TIME_STEPS_TEST):\n",
    "        if int(iTest / PERIOD_INPUT_SWAP) % 2 == 0:\n",
    "            inp = inpFlat1 + np.random.uniform(-1, 1, NPIX_X**2)\n",
    "        else:\n",
    "            inp = inpFlat2 + np.random.uniform(-1, 1, NPIX_X**2)\n",
    "\n",
    "        AE1.update(inp, withPES=False)\n",
    "\n",
    "        if iTest % PERIOD_VIDEO_SAMPLE == 0:\n",
    "            frameStack = np.hstack((\n",
    "                255 * inp.reshape((NPIX_X, NPIX_X)),\n",
    "                framePadding,\n",
    "                255 * AE1.S_H.reshape((NPIX_X, NPIX_X)),\n",
    "                framePadding,\n",
    "                255 * AE1.V_O.reshape((NPIX_X, NPIX_X))\n",
    "            ))\n",
    "            \n",
    "            #print(\"step\", iSim)\n",
    "            vid_inp.write(frameStack)"
   ]
  }
 ],
 "metadata": {
  "kernelspec": {
   "display_name": "Python 3",
   "language": "python",
   "name": "python3"
  },
  "language_info": {
   "codemirror_mode": {
    "name": "ipython",
    "version": 3
   },
   "file_extension": ".py",
   "mimetype": "text/x-python",
   "name": "python",
   "nbconvert_exporter": "python",
   "pygments_lexer": "ipython3",
   "version": "3.7.0"
  }
 },
 "nbformat": 4,
 "nbformat_minor": 2
}
