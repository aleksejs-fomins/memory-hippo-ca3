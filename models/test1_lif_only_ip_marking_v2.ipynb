{
 "cells": [
  {
   "cell_type": "code",
   "execution_count": 1,
   "metadata": {},
   "outputs": [
    {
     "name": "stderr",
     "output_type": "stream",
     "text": [
      "/home/aleksejs/.local/lib/python3.6/site-packages/brian2/core/variables.py:174: FutureWarning: Conversion of the second argument of issubdtype from `float` to `np.floating` is deprecated. In future, it will be treated as `np.float64 == np.dtype(float).type`.\n",
      "  return np.issubdtype(np.bool, self.dtype)\n"
     ]
    }
   ],
   "source": [
    "import numpy as np\n",
    "import matplotlib.pyplot as plt\n",
    "import matplotlib.image as mpimg\n",
    "from brian2 import start_scope, prefs, run\n",
    "from brian2 import PoissonGroup, NeuronGroup, Synapses, StateMonitor, SpikeMonitor, TimedArray\n",
    "from brian2 import ms, mV, Hz\n",
    "\n",
    "# Import libraries from outside folder\n",
    "import sys\n",
    "sys.path.append('../lib/')\n",
    "\n",
    "import traces_lib, opencv_lib"
   ]
  },
  {
   "cell_type": "code",
   "execution_count": 2,
   "metadata": {},
   "outputs": [
    {
     "data": {
      "image/png": "[encoded data removed]",
      "text/plain": [
       "<matplotlib.figure.Figure at 0x7f848414fc88>"
      ]
     },
     "metadata": {},
     "output_type": "display_data"
    }
   ],
   "source": [
    "# Load raw images\n",
    "# img1 = (mpimg.imread('img/cat4.png')[:,:,0] > 0.5).astype(int)\n",
    "# img2 = (mpimg.imread('img/mouse4.png')[:,:,0] > 0.5).astype(int)\n",
    "img1 = mpimg.imread('../img/cat4.png')\n",
    "img2 = mpimg.imread('../img/mouse4.png')\n",
    "\n",
    "# Plot raw images\n",
    "fig, axis = plt.subplots(ncols=2)\n",
    "axis[0].imshow(img1, cmap='gray')\n",
    "axis[1].imshow(img2, cmap='gray')\n",
    "axis[0].set_axis_off()\n",
    "axis[1].set_axis_off()\n",
    "plt.suptitle('Original Images')\n",
    "plt.show()"
   ]
  },
  {
   "cell_type": "markdown",
   "metadata": {},
   "source": [
    "## Solution 2 (Good solution)\n",
    "\n",
    "Plasticity of the spiking threshold: Increase threshold by fixed amout at every spike, and use homeostatic decay to restore it to resting threshold. This way, neurons that fire more should have higher threshold, which would in turn decrease their firing rate.\n",
    "\n",
    "<table><tr><td>\n",
    "    $\\begin{eqnarray}\n",
    "      \\dot{V}(t) &=& \\frac{V_0 - V}{\\tau_V} + \\dot{V}_{\\mathrm{inp}}(t) - T(t)S(t) \\\\\n",
    "      \\dot{T}(t) &=& \\eta_T(S(t) - R_0)\n",
    "    \\end{eqnarray}$\n",
    "</td></tr></table>\n",
    "\n",
    "where the spike function is given by\n",
    "<table><tr><td>\n",
    "    $S(t) = \\sum_i \\delta(t - t_i)$\n",
    "</td></tr></table>\n",
    "and the input is given by Poisson distribution\n",
    "<table><tr><td>\n",
    "    $\\dot{V}_{\\mathrm{inp}}(t) = \\Delta V \\cdot P(f_0 + f_{\\mathrm{inp}} \\mathrm{PIX}_{\\mathrm{inp}})$\n",
    "</td></tr></table>"
   ]
  },
  {
   "cell_type": "code",
   "execution_count": 10,
   "metadata": {},
   "outputs": [
    {
     "name": "stderr",
     "output_type": "stream",
     "text": [
      "WARNING    /home/aleksejs/.local/lib/python3.6/site-packages/brian2/core/variables.py:174: FutureWarning: Conversion of the second argument of issubdtype from `bool` to `np.generic` is deprecated. In future, it will be treated as `np.bool_ == np.dtype(bool).type`.\n",
      "  return np.issubdtype(np.bool, self.dtype)\n",
      " [py.warnings]\n",
      "WARNING    \"i\" is an internal variable of group \"synapses_2\", but also exists in the run namespace with the value 999. The internal variable will be used. [brian2.groups.group.Group.resolve.resolution_conflict]\n",
      "WARNING    /home/aleksejs/.local/lib/python3.6/site-packages/brian2/core/variables.py:174: FutureWarning: Conversion of the second argument of issubdtype from `float` to `np.floating` is deprecated. In future, it will be treated as `np.float64 == np.dtype(float).type`.\n",
      "  return np.issubdtype(np.bool, self.dtype)\n",
      " [py.warnings]\n",
      "INFO       No numerical integration method specified for group 'neurongroup', using method 'euler' (took 0.00s, trying other methods took 0.00s). [brian2.stateupdaters.base.method_choice]\n"
     ]
    },
    {
     "name": "stdout",
     "output_type": "stream",
     "text": [
      "Number of neurons is 6400\n",
      "Input Frequencies are 100. Hz +/- 300. Hz\n",
      "Typical threshold is 50. mV , voltage increase per spike is 16.66666667 mV\n",
      "CPU times: user 2.53 s, sys: 38.5 ms, total: 2.57 s\n",
      "Wall time: 2.57 s\n"
     ]
    }
   ],
   "source": [
    "%%time\n",
    "start_scope()\n",
    "prefs.codegen.target = \"numpy\"\n",
    "\n",
    "#######################################\n",
    "# Neuron constants\n",
    "#######################################\n",
    "\n",
    "OUTPUT_SAMPLING_TIMESCALE = 1*ms\n",
    "\n",
    "N_NEURON = img1.shape[0] * img1.shape[1]\n",
    "print('Number of neurons is', N_NEURON)\n",
    "\n",
    "RUN_TIME = 1000*ms\n",
    "\n",
    "LIF_V_TAU = 10*ms\n",
    "LIF_V_0 = 0.0*mV\n",
    "\n",
    "LIF_R_AVG = 10.0*Hz  # Resting state rate\n",
    "LIF_T_AVG = 50*mV    # Initial expected threshold\n",
    "LIF_T_ETA = 2*mV     # LIF change\n",
    "\n",
    "#######################################\n",
    "# Input constants\n",
    "#######################################\n",
    "\n",
    "# Sync input voltage, so that for average threshold the leak would balance out the input\n",
    "INPUT_SPIKES_PER_THRESHOLD = 3\n",
    "INPUT_DV_PER_SPIKE = LIF_T_AVG / INPUT_SPIKES_PER_THRESHOLD\n",
    "INPUT_FREQ_0   = 100 * Hz\n",
    "INPUT_FREQ_STIM = 300 * Hz\n",
    "INPUT_FREQ_AVG = INPUT_FREQ_0 + INPUT_FREQ_STIM / 2\n",
    "print(\"Input Frequencies are\", INPUT_FREQ_0, \"+/-\", INPUT_FREQ_STIM)\n",
    "print(\"Typical threshold is\", LIF_T_AVG, \", voltage increase per spike is\", INPUT_DV_PER_SPIKE)\n",
    "\n",
    "#######################################\n",
    "# Neuron Equations\n",
    "#######################################\n",
    "\n",
    "# Membrane potential V and threshold T both return back to resting values over time\n",
    "eqs_neu = '''\n",
    "dv/dt = (LIF_V_0 - v) / LIF_V_TAU : volt\n",
    "dT/dt = -LIF_T_ETA * LIF_R_AVG    : volt\n",
    "'''\n",
    "\n",
    "# On spike, the threshold is increased\n",
    "reset = '''\n",
    "v = LIF_V_0\n",
    "T += LIF_T_ETA\n",
    "'''\n",
    "\n",
    "# Connect Input and LIF one-to-one\n",
    "G_INP = PoissonGroup(N_NEURON, INPUT_FREQ_0 + INPUT_FREQ_STIM * np.ndarray.flatten(img1))\n",
    "G_LIF = NeuronGroup(N_NEURON, eqs_neu, threshold='v > T', reset=reset)#, method='exact')\n",
    "S = Synapses(G_INP, G_LIF, on_pre='v_post += INPUT_DV_PER_SPIKE')\n",
    "S.connect(j='i')\n",
    "\n",
    "# Monitor the value of one neuron somewhere in the middle of the image\n",
    "M = StateMonitor(G_LIF, 'T', record=True, dt=OUTPUT_SAMPLING_TIMESCALE)\n",
    "spikemon_inp = SpikeMonitor(G_INP)\n",
    "spikemon_lif = SpikeMonitor(G_LIF)\n",
    "\n",
    "run(RUN_TIME)"
   ]
  },
  {
   "cell_type": "code",
   "execution_count": 12,
   "metadata": {},
   "outputs": [
    {
     "name": "stdout",
     "output_type": "stream",
     "text": [
      "Started writing video rez/test1_lif_sol2_inp.avi of 1000 frames using time step 0.001\n",
      "Started writing video rez/test1_lif_sol2_lif.avi of 1000 frames using time step 0.001\n",
      "Average LIF firing rate is 45.0478125 Hz\n",
      "Min threshold after training is 0.028000000000012723\n",
      "Max threshold after training is 0.10399999999998238\n",
      "Average threshold after training is 0.0700956249999851\n"
     ]
    },
    {
     "data": {
      "image/png": "[encoded data removed]",
      "text/plain": [
       "<matplotlib.figure.Figure at 0x7f8459978080>"
      ]
     },
     "metadata": {},
     "output_type": "display_data"
    }
   ],
   "source": [
    "#######################################\n",
    "# Write videos\n",
    "#######################################\n",
    "\n",
    "traces_lib.spikes2rateVideo(\n",
    "    'rez/test1_lif_sol2_inp.avi',\n",
    "    img1.shape,\n",
    "    np.array(spikemon_inp.i),\n",
    "    np.array(spikemon_inp.t),\n",
    "    0,\n",
    "    float(RUN_TIME),\n",
    "    1000,\n",
    "    0.1,\n",
    "    maxRate=int(INPUT_FREQ_0+INPUT_FREQ_STIM))\n",
    "\n",
    "traces_lib.spikes2rateVideo(\n",
    "    'rez/test1_lif_sol2_lif.avi',\n",
    "    img1.shape,\n",
    "    np.array(spikemon_lif.i),\n",
    "    np.array(spikemon_lif.t),\n",
    "    0,\n",
    "    float(RUN_TIME),\n",
    "    1000,\n",
    "    0.05,\n",
    "    maxRate=150)\n",
    "\n",
    "\n",
    "# Threshold trace\n",
    "MaxThreshold = np.max(np.array(G_LIF.T))\n",
    "traceT = (np.array(M.T) * 255 / MaxThreshold).astype(int)\n",
    "with opencv_lib.cvWriter('rez/test1_lif_sol2_T.avi', img1.shape, codec='MJPG') as vid:\n",
    "    for i in range(traceT.shape[1]):\n",
    "        vid.write(traceT[:,i].reshape(img1.shape))\n",
    "\n",
    "#Plot resulting threshold values\n",
    "print(\"Average LIF firing rate is\", len(spikemon_lif.i) / N_NEURON / RUN_TIME)\n",
    "print(\"Min threshold after training is\", np.min(np.array(G_LIF.T)))\n",
    "print(\"Max threshold after training is\", np.max(np.array(G_LIF.T)))\n",
    "print(\"Average threshold after training is\", np.average(np.array(G_LIF.T)))\n",
    "plt.figure()\n",
    "plt.imshow(np.array(G_LIF.T).reshape(img1.shape), cmap='gray')\n",
    "plt.show()"
   ]
  },
  {
   "cell_type": "code",
   "execution_count": null,
   "metadata": {
    "collapsed": true
   },
   "outputs": [],
   "source": []
  }
 ],
 "metadata": {
  "kernelspec": {
   "display_name": "Python 3",
   "language": "python",
   "name": "python3"
  },
  "language_info": {
   "codemirror_mode": {
    "name": "ipython",
    "version": 3
   },
   "file_extension": ".py",
   "mimetype": "text/x-python",
   "name": "python",
   "nbconvert_exporter": "python",
   "pygments_lexer": "ipython3",
   "version": "3.6.4"
  }
 },
 "nbformat": 4,
 "nbformat_minor": 2
}
