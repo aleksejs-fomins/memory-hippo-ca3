{
 "cells": [
  {
   "cell_type": "code",
   "execution_count": 1,
   "metadata": {},
   "outputs": [
    {
     "name": "stderr",
     "output_type": "stream",
     "text": [
      "/home/aleksejs/.local/lib/python3.6/site-packages/brian2/core/variables.py:174: FutureWarning: Conversion of the second argument of issubdtype from `float` to `np.floating` is deprecated. In future, it will be treated as `np.float64 == np.dtype(float).type`.\n",
      "  return np.issubdtype(np.bool, self.dtype)\n"
     ]
    }
   ],
   "source": [
    "import numpy as np\n",
    "import matplotlib.pyplot as plt\n",
    "import matplotlib.image as mpimg\n",
    "\n",
    "from brian2 import start_scope, prefs, run\n",
    "from brian2 import NeuronGroup, PoissonGroup, Synapses, SpikeMonitor, StateMonitor\n",
    "from brian2 import ms, mV, Hz\n",
    "\n",
    "# Import libraries from outside folder\n",
    "import sys\n",
    "sys.path.append('../lib/')\n",
    "\n",
    "import brian2wrapper"
   ]
  },
  {
   "cell_type": "code",
   "execution_count": 2,
   "metadata": {},
   "outputs": [
    {
     "data": {
      "image/png": "[encoded data removed]",
      "text/plain": [
       "<matplotlib.figure.Figure at 0x7f7eb8383c18>"
      ]
     },
     "metadata": {},
     "output_type": "display_data"
    }
   ],
   "source": [
    "# Load raw images\n",
    "# img1 = (mpimg.imread('img/cat4.png')[:,:,0] > 0.5).astype(int)\n",
    "# img2 = (mpimg.imread('img/mouse4.png')[:,:,0] > 0.5).astype(int)\n",
    "img1 = mpimg.imread('../img/cat4.png')\n",
    "img2 = mpimg.imread('../img/mouse4.png')\n",
    "\n",
    "# Plot raw images\n",
    "fig, axis = plt.subplots(ncols=2)\n",
    "axis[0].imshow(img1, cmap='gray')\n",
    "axis[1].imshow(img2, cmap='gray')\n",
    "axis[0].set_axis_off()\n",
    "axis[1].set_axis_off()\n",
    "plt.suptitle('Original Images')\n",
    "plt.show()"
   ]
  },
  {
   "cell_type": "markdown",
   "metadata": {},
   "source": [
    "# Marking using Symmetric Hebbian STDP plasticity\n",
    "\n",
    "Plan:\n",
    "1. Have sparsely connected Brunel network\n",
    "  * Inhibitory neurons are 4x less than excitatory\n",
    "  * Inhibitory neurons have 4x stronger weights than excitatory\n",
    "2. Exc-Exc connections exhibit Symmetric Hebbian plasticity\n",
    "<table><tr><td>\n",
    "  $\\dot{W}(t) = C \\bigl(z^A(t) S^B(t) + z^B(t) S^A(t) \\bigr)$\n",
    "</td></tr></table>\n",
    "3. Poisson input is sent to excitatory neurons\n",
    "\n",
    "\n",
    "Questions:\n",
    "* How to make sure network is still balanced after STDP?\n",
    "  \n"
   ]
  },
  {
   "cell_type": "code",
   "execution_count": 3,
   "metadata": {},
   "outputs": [
    {
     "name": "stderr",
     "output_type": "stream",
     "text": [
      "WARNING    /home/aleksejs/.local/lib/python3.6/site-packages/brian2/core/variables.py:174: FutureWarning: Conversion of the second argument of issubdtype from `bool` to `np.generic` is deprecated. In future, it will be treated as `np.bool_ == np.dtype(bool).type`.\n",
      "  return np.issubdtype(np.bool, self.dtype)\n",
      " [py.warnings]\n"
     ]
    },
    {
     "name": "stdout",
     "output_type": "stream",
     "text": [
      "Number of [EXC, INH] neurons is 6400 1600\n",
      "Typical threshold is 50. mV , voltage increase per input spike is 20.83333333 mV\n",
      "typical number of presynaptic exc neurons 64.0\n",
      "typical number of presynaptic inh neurons 16.0\n",
      "typical potential change per exc lateral spike 7.8125 mV\n",
      "typical potential change per inh lateral spike -31.25 mV\n"
     ]
    },
    {
     "name": "stderr",
     "output_type": "stream",
     "text": [
      "WARNING    /home/aleksejs/.local/lib/python3.6/site-packages/brian2/core/variables.py:174: FutureWarning: Conversion of the second argument of issubdtype from `float` to `np.floating` is deprecated. In future, it will be treated as `np.float64 == np.dtype(float).type`.\n",
      "  return np.issubdtype(np.bool, self.dtype)\n",
      " [py.warnings]\n"
     ]
    },
    {
     "name": "stdout",
     "output_type": "stream",
     "text": [
      "CPU times: user 11.9 s, sys: 200 ms, total: 12.1 s\n",
      "Wall time: 12.1 s\n"
     ]
    }
   ],
   "source": [
    "%%time\n",
    "'''\n",
    "TODO:\n",
    "1) Add inhibitory neurons\n",
    "    + Implement\n",
    "    ? Find out p-conn, check weight from Brunel\n",
    "2) Add homeostatic synaptic plasticity\n",
    "3) Get system from overdrive to balanced input-driven\n",
    "4) Make video of window-rate\n",
    "'''\n",
    "\n",
    "start_scope()\n",
    "prefs.codegen.target = \"numpy\"\n",
    "\n",
    "N_EXC = img1.shape[0] * img1.shape[1]\n",
    "N_INH = int(N_EXC / 4)\n",
    "print('Number of [EXC, INH] neurons is', N_EXC, N_INH)\n",
    "\n",
    "RUN_TIME = 2000*ms\n",
    "\n",
    "OUTPUT_SAMPLING_TIMESCALE_W = 5*ms\n",
    "\n",
    "# Fixed threshold neurons\n",
    "LIF_V_TAU = 10*ms\n",
    "LIF_V_0 = 0.0*mV\n",
    "LIF_T_0 = 50.0*mV\n",
    "\n",
    "# Sync input voltage, so that for average threshold the leak would balance out the input\n",
    "INPUT_FREQ_0 = 10*Hz\n",
    "INPUT_FREQ_MAX = 100*Hz\n",
    "INPUT_FREQ_AVG = INPUT_FREQ_0 + INPUT_FREQ_MAX / 2\n",
    "INPUT_DV_PER_SPIKE = 0.25 * LIF_T_0 / LIF_V_TAU / INPUT_FREQ_AVG\n",
    "print(\"Typical threshold is\", LIF_T_0, \", voltage increase per input spike is\", INPUT_DV_PER_SPIKE)\n",
    "\n",
    "# LIF neurons will be sparsely connected laterally\n",
    "W_CONN_P_LATERAL = 0.01\n",
    "W_0 = 0.5\n",
    "DV_SPIKE_EXC = LIF_T_0 / (0.1*N_EXC * W_CONN_P_LATERAL)\n",
    "DV_SPIKE_INH = -4 * DV_SPIKE_EXC\n",
    "\n",
    "print(\"typical number of presynaptic exc neurons\", N_EXC * W_CONN_P_LATERAL)\n",
    "print(\"typical number of presynaptic inh neurons\", N_INH * W_CONN_P_LATERAL)\n",
    "print(\"typical potential change per exc lateral spike\", DV_SPIKE_EXC)\n",
    "print(\"typical potential change per inh lateral spike\", DV_SPIKE_INH)\n",
    "\n",
    "# STDP\n",
    "PLASTICITY_MODEL = {\n",
    "    'TYPE'      : 'STDP_HP',\n",
    "    'DV_SPIKE'  : DV_SPIKE_EXC,\n",
    "    'REL_W_MIN' : 0.0,\n",
    "    'REL_W_MAX' : 5.0,\n",
    "    'REL_W_0'   : 0.1,\n",
    "    'DW_FORW'   : 0.01,     # Maximal change of weight due to causal spike sequence\n",
    "    'DW_BACK'   : 0.01,     # Maximal change of weight due to anti-causal spike sequence\n",
    "    'TAU_PRE'   : 20*ms,    # STDP presynaptic spike trace timescale\n",
    "    'TAU_POST'  : 20*ms,    # STDP postsynaptic spike trace timescale    \n",
    "    'TAU_HP'    : 200*ms    # Timescale for synaptic homeostatic plasticity\n",
    "}\n",
    "\n",
    "# Create neuronal populations\n",
    "G_INP = PoissonGroup(N_EXC, INPUT_FREQ_0 + INPUT_FREQ_MAX * np.ndarray.flatten(img1))\n",
    "G_EXC = brian2wrapper.NeuronGroupLIF(N_EXC, LIF_V_0, LIF_T_0, LIF_V_TAU)\n",
    "G_INH = brian2wrapper.NeuronGroupLIF(N_INH, LIF_V_0, LIF_T_0, LIF_V_TAU)\n",
    "\n",
    "# Create synapses\n",
    "S_INP = Synapses(G_INP, G_EXC, on_pre='v_post += INPUT_DV_PER_SPIKE', method='exact')\n",
    "S_EXC_EXC = brian2wrapper.SynapsesPlastic(G_EXC, G_EXC, PLASTICITY_MODEL)\n",
    "S_EXC_INH = Synapses(G_EXC, G_INH, on_pre='v_post += DV_SPIKE_EXC', method='exact')\n",
    "S_INH_EXC = Synapses(G_INH, G_EXC, on_pre='v_post += DV_SPIKE_INH', method='exact')\n",
    "S_INH_INH = Synapses(G_INH, G_INH, on_pre='v_post += DV_SPIKE_INH', method='exact')\n",
    "\n",
    "# Connect synapses:\n",
    "# * Input and LIF one-to-one\n",
    "# * LIF neurons to each other sparsely\n",
    "S_INP.connect(j='i')    \n",
    "S_EXC_EXC.connect(p=W_CONN_P_LATERAL)   \n",
    "S_EXC_INH.connect(p=W_CONN_P_LATERAL)\n",
    "S_INH_EXC.connect(p=W_CONN_P_LATERAL)\n",
    "S_INH_INH.connect(p=W_CONN_P_LATERAL)\n",
    "\n",
    "# Initialize STDP variable\n",
    "S_EXC_EXC.w = 'W_0'\n",
    "\n",
    "spikemon_inp = SpikeMonitor(G_INP)\n",
    "spikemon_exc = SpikeMonitor(G_EXC)\n",
    "\n",
    "statemon_s_exc_exc = StateMonitor(S_EXC_EXC, 'w', record=True, dt=OUTPUT_SAMPLING_TIMESCALE_W)\n",
    "\n",
    "run(RUN_TIME)"
   ]
  },
  {
   "cell_type": "code",
   "execution_count": 4,
   "metadata": {},
   "outputs": [
    {
     "name": "stdout",
     "output_type": "stream",
     "text": [
      "Started writing video rez/test3_lif_inp.avi of 2000 frames using time step 0.001\n",
      "Started writing video rez/test3_lif_exc.avi of 2000 frames using time step 0.001\n"
     ]
    },
    {
     "data": {
      "image/png": "[encoded data removed]",
      "text/plain": [
       "<matplotlib.figure.Figure at 0x7f7ea02ae898>"
      ]
     },
     "metadata": {},
     "output_type": "display_data"
    },
    {
     "name": "stdout",
     "output_type": "stream",
     "text": [
      "Min weight after training is 0.10001816905416132\n",
      "Max weight after training is 0.5\n",
      "Average weight after training is 0.12813870741935493\n"
     ]
    }
   ],
   "source": [
    "#######################################\n",
    "# Write videos\n",
    "#######################################\n",
    "\n",
    "import traces_lib\n",
    "\n",
    "TAU_SMOOTH = 0.05\n",
    "OUTPUT_SAMPLING_TIMESCALE = 1*ms\n",
    "N_DISCR_STEPS = int(RUN_TIME / OUTPUT_SAMPLING_TIMESCALE)\n",
    "\n",
    "# Input spikes\n",
    "traces_lib.spikes2rateVideo(\n",
    "    'rez/test3_lif_inp.avi',\n",
    "    img1.shape,\n",
    "    np.array(spikemon_inp.i),\n",
    "    np.array(spikemon_inp.t),\n",
    "    0,\n",
    "    float(RUN_TIME),\n",
    "    N_DISCR_STEPS,\n",
    "    TAU_SMOOTH)\n",
    "\n",
    "# Spikes\n",
    "traces_lib.spikes2rateVideo(\n",
    "    'rez/test3_lif_exc.avi',\n",
    "    img1.shape,\n",
    "    np.array(spikemon_exc.i),\n",
    "    np.array(spikemon_exc.t),\n",
    "    0,\n",
    "    float(RUN_TIME),\n",
    "    N_DISCR_STEPS,\n",
    "    TAU_SMOOTH)\n",
    "\n",
    "\n",
    "avgWeight = np.average(np.array(statemon_s_exc_exc.w), axis=0)\n",
    "timeDW = np.linspace(0, RUN_TIME, len(avgWeight))\n",
    "\n",
    "plt.figure()\n",
    "plt.plot(timeDW, avgWeight)\n",
    "plt.show()\n",
    "\n",
    "\n",
    "#Report resulting weights\n",
    "print(\"Min weight after training is\", np.min(np.array(S_EXC_EXC.w)))\n",
    "print(\"Max weight after training is\", np.max(np.array(S_EXC_EXC.w)))\n",
    "print(\"Average weight after training is\", np.average(np.array(S_EXC_EXC.w)))"
   ]
  },
  {
   "cell_type": "code",
   "execution_count": 5,
   "metadata": {},
   "outputs": [
    {
     "name": "stdout",
     "output_type": "stream",
     "text": [
      "(408341, 400)\n"
     ]
    }
   ],
   "source": [
    "print(np.array(statemon_s_exc_exc.w).shape)"
   ]
  },
  {
   "cell_type": "markdown",
   "metadata": {},
   "source": [
    "### Mean-field analysis\n",
    "\n",
    "<table><tr><td>\n",
    "  $\\begin{eqnarray}\n",
    "    \\dot{V}^{E}_i &=& \\frac{V^{E,0} - V^{E}_i}{\\tau_{E}} - T^{E}S^{E}_i + \\Delta V^{E} \\sum_j S^{E}_j W^{EE}_{ji} - \\Delta V^{I} \\sum_j S^{I}_j W^{IE}_{ji} + \\dot{V}^{inp}_i\\\\\n",
    "    \\dot{V}^{I}_i &=& \\frac{V^{I,0} - V^{I}_i}{\\tau_{I}} - T^{I}S^{I}_i + \\Delta V_{E} \\sum_j S^{E}_j W^{EI}_{ji}  - \\Delta V_{I} \\sum_j S^{I}_j W^{II}_{ji}\n",
    "  \\end{eqnarray}$\n",
    "</td></tr></table>\n",
    "Approximate all weights of a particular connection to be the same. Define\n",
    "<table><tr><td>\n",
    "  $\\begin{eqnarray}\n",
    "    N^E \\Delta V_{E} W^{EE}_{ji} &\\approx& N^E \\Delta V_{E} W^{EE} PCONN^{EE} = \\Delta V^{EE} \\\\\n",
    "    N^E \\Delta V_{E} W^{EI}_{ji} &\\approx& N^E \\Delta V_{E} W^{EI} PCONN^{EI} = \\Delta V^{EI} \\\\\n",
    "    N^I \\Delta V_{I} W^{IE}_{ji} &\\approx& N^I \\Delta V_{I} W^{IE} PCONN^{IE} = \\Delta V^{IE} \\\\\n",
    "    N^I \\Delta V_{I} W^{II}_{ji} &\\approx& N^I \\Delta V_{I} W^{II} PCONN^{II} = \\Delta V^{II}\n",
    "  \\end{eqnarray}$\n",
    "</td></tr></table>\n",
    "Perform time-averaging over time window of a few spikes. Assume that weight does not change significantly within that time-period, but it is enough to precisely estimate the spike rate. Also, approximate all spike rates by their averages\n",
    "<table><tr><td>\n",
    "  $\\begin{eqnarray}\n",
    "    R^{E} &\\approx& \\frac{1}{N^{E}} \\sum_i R^{E}_i \\approx \\frac{1}{N^{E}} \\sum_i \\langle S^{E}_i \\rangle_t \\\\\n",
    "    R^{I} &\\approx& \\frac{1}{N^{I}} \\sum_i R^{I}_i \\approx \\frac{1}{N^{I}} \\sum_i \\langle S^{I}_i \\rangle_t\n",
    "  \\end{eqnarray}$\n",
    "</td></tr></table>\n",
    "Find time and ensemble-averages of other quantities as well\n",
    "<table><tr><td>\n",
    "  $\\begin{eqnarray}\n",
    "    \\langle \\dot{V}^{E}_i \\rangle_t &\\approx& 0 \\\\\n",
    "    \\langle \\dot{V}^{I}_i \\rangle_t &\\approx& 0 \\\\\n",
    "    \\biggl\\langle \\sum_i (V^{E,0} - V^{E}_i) \\biggr\\rangle_t &\\approx& \\frac{T^E}{2} \\\\\n",
    "    \\biggl\\langle \\sum_i (V^{I,0} - V^{I}_i) \\biggr\\rangle_t &\\approx& \\frac{T^I}{2} \\\\\n",
    "  \\end{eqnarray}$\n",
    "</td></tr></table>\n",
    "Taking time and ensemble-averages of all ODE, we get\n",
    "<table><tr><td>\n",
    "  $\\begin{eqnarray}\n",
    "    0 &=& -\\frac{T^E}{2\\tau_{E}} - T^{E}R^{E} + \\Delta V^{EE} R^{E} - \\Delta V^{IE} R^{I} + \\dot{V}^{inp}\\\\\n",
    "    0 &=& -\\frac{T^I}{2\\tau_{I}} - T^{I}R^{I} + \\Delta V^{EI} R^{E} - \\Delta V_{II} R^{I}\n",
    "  \\end{eqnarray}$\n",
    "</td></tr></table>\n",
    "Rewriting\n",
    "<table><tr><td>\n",
    "  $\\begin{eqnarray}\n",
    "    R^{E}(T^{E} - \\Delta V^{EE}) + R^{I} \\Delta V^{IE} &=& \\dot{V}^{inp} - \\frac{T^E}{2\\tau_{E}}\\\\\n",
    "    R^{I}(T^{I} + \\Delta V^{II}) - R^{E} \\Delta V^{EI} &=& -\\frac{T^I}{2\\tau_{I}}\n",
    "  \\end{eqnarray}$\n",
    "</td></tr></table>\n"
   ]
  },
  {
   "cell_type": "code",
   "execution_count": null,
   "metadata": {},
   "outputs": [],
   "source": []
  }
 ],
 "metadata": {
  "kernelspec": {
   "display_name": "Python 3",
   "language": "python",
   "name": "python3"
  },
  "language_info": {
   "codemirror_mode": {
    "name": "ipython",
    "version": 3
   },
   "file_extension": ".py",
   "mimetype": "text/x-python",
   "name": "python",
   "nbconvert_exporter": "python",
   "pygments_lexer": "ipython3",
   "version": "3.6.4"
  }
 },
 "nbformat": 4,
 "nbformat_minor": 2
}
