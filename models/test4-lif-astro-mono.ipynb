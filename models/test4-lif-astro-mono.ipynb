{
 "cells": [
  {
   "cell_type": "markdown",
   "metadata": {},
   "source": [
    "Easy\n",
    "<table><tr><td>\n",
    "  $\\begin{eqnarray}\n",
    "    \\dot{V}(t)_i &=& \\frac{V_0 - V_i(t)}{\\tau_V} -T_i S_i(t) + I^{ext}_i + \\sum_{j} W_{ij} S_j(t) + \\sum_{j} \\frac{V^A_{ij}(t)}{\\tau_{release}} \\\\\n",
    "    \\dot{V}^A_{ij}(t) &=& \\alpha_{absorb} W_{ij} S_j(t) - \\frac{V^A_{ij}(t)}{\\tau_{release}}-\\frac{V^A_{ij}(t)}{\\tau_{leak}}\n",
    "  \\end{eqnarray}$\n",
    "</td></tr></table>\n",
    "\n",
    "A little less easy\n",
    "<table><tr><td>\n",
    "  $\\begin{eqnarray}\n",
    "    \\dot{V}(t)_i &=& \\frac{V_0 - V_i(t)}{\\tau_V} -T_i S_i(t) + I^{ext}_i + \\sum_{j} W_{ij} S_j(t) + \\sum_{j} \\dot{V}^{release}_{ij}(t) \\\\\n",
    "    \\dot{V}^A_{ij}(t) &=& \\alpha_{absorb} W_{ij} S_j(t) -\\dot{V}^{release}_{ij}(t) - \\frac{V^A_{ij}(t)}{\\tau_{leak}}\\\\\n",
    "    \\dot{V}^{release}_{ij}(t) &=& \\sigma \\bigl(V^A_{ij}(t) - \\alpha_{absorb} W_{ij} R_j(t) \\bigr) \\frac{V^A_{ij}(t)}{\\tau_{release}} \\\\\n",
    "    \\dot{R}_j(t) &=& -\\frac{R_j(t)}{\\tau_R} + S_j(t)\n",
    "  \\end{eqnarray}$\n",
    "</td></tr></table>"
   ]
  },
  {
   "cell_type": "code",
   "execution_count": null,
   "metadata": {},
   "outputs": [],
   "source": []
  }
 ],
 "metadata": {
  "kernelspec": {
   "display_name": "Python 3",
   "language": "python",
   "name": "python3"
  },
  "language_info": {
   "codemirror_mode": {
    "name": "ipython",
    "version": 3
   },
   "file_extension": ".py",
   "mimetype": "text/x-python",
   "name": "python",
   "nbconvert_exporter": "python",
   "pygments_lexer": "ipython3",
   "version": "3.7.0"
  }
 },
 "nbformat": 4,
 "nbformat_minor": 2
}
